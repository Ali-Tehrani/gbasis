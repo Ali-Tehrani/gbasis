{
 "cells": [
  {
   "cell_type": "markdown",
   "id": "158f041c",
   "metadata": {},
   "source": [
    "# GBasis Tutorial - Basis Sets"
   ]
  },
  {
   "cell_type": "markdown",
   "id": "f2e7dbd1",
   "metadata": {},
   "source": [
    "# 1 Basis Sets"
   ]
  },
  {
   "cell_type": "markdown",
   "id": "87e31854",
   "metadata": {},
   "source": [
    "In [`gbasis`](http://gbasis.qcdevs.org/intro.html), a basis is defined as a list of [`GeneralizedContractionShell`](http://gbasis.qcdevs.org/_autosummary/gbasis.html#module-gbasis.contractions) objects, each one representing a linear combination of primitives and containing all the information defining this combination (i.e the angular momentum of the shell, the center of the shell, the exponents of the primitives, the contraction coefficients, and the normalization coefficients).\n",
    "\n",
    "This notebook showcases the different ways to define a basis set for a molecule and how to transform them."
   ]
  },
  {
   "cell_type": "markdown",
   "id": "d9083083",
   "metadata": {},
   "source": [
    "## 1.1 Loading Basis Sets"
   ]
  },
  {
   "cell_type": "markdown",
   "id": "88f14a1d",
   "metadata": {},
   "source": [
    "Basis set information is usually available in text format, such as from the [Basis Set Exchange](https://www.basissetexchange.org/). In `gbasis`, two of the most popular formats are supported:\n",
    "  - Gaussian94 (.gbs)\n",
    "  - NWChem (.nw).\n",
    "\n",
    "The following example shows how to load a basis set from a Gaussian94  or a NWChem file.\n",
    "\n",
    "### 1.1.1 Gaussian94 Format"
   ]
  },
  {
   "cell_type": "code",
   "execution_count": 1,
   "id": "6b3f324f",
   "metadata": {},
   "outputs": [
    {
     "name": "stdout",
     "output_type": "stream",
     "text": [
      "def2-SVP Basis Set Loaded from Gaussian94 Format:\n",
      "Atom: H\n",
      "   Number of shells: 3\n",
      "   Shell 0 has angular momentum 0\n",
      "   Shell 0 has exponents [13.010701    1.9622572   0.44453796]\n",
      "   Shell 0 has coefficients [0.01968216 0.13796524 0.47831935]\n",
      "   Shell 1 has angular momentum 0\n",
      "   Shell 1 has exponents [0.12194962]\n",
      "   Shell 1 has coefficients [1.]\n",
      "   Shell 2 has angular momentum 1\n",
      "   Shell 2 has exponents [0.8]\n",
      "   Shell 2 has coefficients [1.]\n"
     ]
    }
   ],
   "source": [
    "import numpy as np\n",
    "from gbasis.parsers import parse_gbs, parse_nwchem\n",
    "\n",
    "# load hydrogen atom def2-SVP basis set information with the Gaussian94 format\n",
    "gbs_basis_dict = parse_gbs(\"hydrogen_def2-svp.1.gbs\")\n",
    "\n",
    "# basis set information is stored as\n",
    "# {'Atom Symbol': [(Angular Momentum, [Exponents], [Coefficients]), ...]}\n",
    "print(\"def2-SVP Basis Set Loaded from Gaussian94 Format:\")\n",
    "for atom in gbs_basis_dict:\n",
    "    print(f\"Atom: {atom}\")\n",
    "    print(f\"   Number of shells: {len(gbs_basis_dict[atom])}\")\n",
    "    for shell_num, shell in enumerate(gbs_basis_dict[atom]):\n",
    "        print(f\"   Shell {shell_num} has angular momentum {shell[0]}\")\n",
    "        print(f\"   Shell {shell_num} has exponents {shell[1]}\")\n",
    "        print(f\"   Shell {shell_num} has coefficients {shell[2].flatten()}\")\n"
   ]
  },
  {
   "cell_type": "markdown",
   "id": "c7f38b33",
   "metadata": {},
   "source": [
    "### 1.1.2 NWChem Format"
   ]
  },
  {
   "cell_type": "code",
   "execution_count": 2,
   "id": "1ae1e3db",
   "metadata": {},
   "outputs": [
    {
     "name": "stdout",
     "output_type": "stream",
     "text": [
      "Loading def2-SVP Basis Set from NWChem Format...\n",
      "Checking that the Gaussian94 and NWChem loaded basis sets are the same:\n",
      "Both loaded basis sets have the same:\n",
      "Atom: H is the same on both cases: True\n",
      "Number of shells is the same: True\n",
      "Shell 0 has the same angular momentum: True\n",
      "Shell 0 has the same exponents: True\n",
      "Shell 0 has the same coefficients: True\n",
      "Shell 1 has the same angular momentum: True\n",
      "Shell 1 has the same exponents: True\n",
      "Shell 1 has the same coefficients: True\n",
      "Shell 2 has the same angular momentum: True\n",
      "Shell 2 has the same exponents: True\n",
      "Shell 2 has the same coefficients: True\n"
     ]
    }
   ],
   "source": [
    "print(\"Loading def2-SVP Basis Set from NWChem Format...\")\n",
    "nw_basis_dict = parse_nwchem(\"hydrogen_def2-svp.1.nw\")\n",
    "\n",
    "print(\"Checking that the Gaussian94 and NWChem loaded basis sets are the same:\")\n",
    "print(\"Both loaded basis sets have the same:\")\n",
    "for atom in gbs_basis_dict:\n",
    "    print(f\"Atom: {atom} is the same on both cases: {atom in nw_basis_dict}\")\n",
    "    print(f\"Number of shells is the same: {len(gbs_basis_dict[atom]) == len(nw_basis_dict[atom])}\")\n",
    "    # check that the angular momentum, exponents, and coefficients are the same for each shell\n",
    "    contractions_pair = enumerate(zip(gbs_basis_dict[atom], nw_basis_dict[atom]))\n",
    "    for shell_num, (gb_shell, nw_shell) in contractions_pair:\n",
    "        print(\n",
    "            f\"Shell {shell_num} has the same angular momentum: {gb_shell[0] == nw_shell[0]}\"\n",
    "        )\n",
    "        print(\n",
    "            f\"Shell {shell_num} has the same exponents: {np.allclose(gb_shell[1], nw_shell[1])}\"\n",
    "        )\n",
    "        print(\n",
    "            f\"Shell {shell_num} has the same coefficients: {np.allclose(gb_shell[2], nw_shell[2])}\"\n",
    "        )"
   ]
  },
  {
   "cell_type": "markdown",
   "id": "38d817ca",
   "metadata": {},
   "source": [
    "## 1.2 Building Basis Instances\n",
    "\n",
    "Once the basis set data for a list of atoms is loaded, `gbasis` allows users to build specific contraction shells for any molecule composed of these atoms. This is achieved with the `make_contraction_shells` function of the [`parsers`](http://gbasis.qcdevs.org/_autosummary/gbasis.html#module-gbasis.parsers) module. The coordinate system used by each contraction shell must be specified by the user. The following example shows how to use this function to build different contraction shells for $\\mathrm{H}_{2}$.\n",
    "\n",
    "### 1.2.1 Cartesian Contraction Shells\n",
    "To build the contraction shells in the Cartesian coordinate system, the `make_contraction_shells` function must be called with `coord_types=\"cartesian\"` or `coord_types=\"c\"`. The following example shows how to build the contraction shells for $\\mathrm{H}_{2}$ in the Cartesian coordinate system."
   ]
  },
  {
   "cell_type": "code",
   "execution_count": 3,
   "id": "a6380cce",
   "metadata": {},
   "outputs": [
    {
     "name": "stdout",
     "output_type": "stream",
     "text": [
      "Number of contracted basis functions: 6\n",
      "Types of contractions: ['cartesian', 'cartesian', 'cartesian', 'cartesian', 'cartesian', 'cartesian']\n",
      "\n",
      "Showing first three contraction shells:\n",
      "Contraction shell #0\n",
      "   Center: [0. 0. 0.]\n",
      "   Angular momentum: 0\n",
      "   Primitive coefficients [[0.01968216 0.13796524 0.47831935]]\n",
      "   Primitive exponents [13.010701    1.9622572   0.44453796]\n",
      "   Primitive normalization constant [[1.70131166]]\n",
      "Contraction shell #1\n",
      "   Center: [0. 0. 0.]\n",
      "   Angular momentum: 0\n",
      "   Primitive coefficients [[1.]]\n",
      "   Primitive exponents [0.12194962]\n",
      "   Primitive normalization constant [[1.]]\n",
      "Contraction shell #2\n",
      "   Center: [0. 0. 0.]\n",
      "   Angular momentum: 1\n",
      "   Primitive coefficients [[1.]]\n",
      "   Primitive exponents [0.8]\n",
      "   Primitive normalization constant [[1. 1. 1.]]\n"
     ]
    }
   ],
   "source": [
    "from gbasis.parsers import make_contractions\n",
    "\n",
    "# use H2 molecule as an example system\n",
    "atoms = [\"H\", \"H\"]\n",
    "atcoords = np.array([[0, 0, 0], [0, 0, 1]])\n",
    "\n",
    "# make contractions for the hydrogen def2-SVP basis set\n",
    "basis = make_contractions(gbs_basis_dict, atoms, atcoords, coord_types=\"cartesian\")\n",
    "\n",
    "print(\"Number of contracted basis functions:\", len(basis))  # 3 for each H atom\n",
    "print(f\"Types of contractions: {[i.coord_type for i in basis]}\", end=\"\\n\\n\")\n",
    "print(\"Showing first three contraction shells:\")\n",
    "for i, shell in enumerate(basis[:3]):\n",
    "    print(f\"Contraction shell #{i}\")\n",
    "    print(f\"   Center: {shell.coord}\")\n",
    "    print(f\"   Angular momentum: {shell.angmom}\")\n",
    "    print(f\"   Primitive coefficients {shell.coeffs.T}\")\n",
    "    print(f\"   Primitive exponents {shell.exps}\")\n",
    "    print(f\"   Primitive normalization constant {shell.norm_cont}\")"
   ]
  },
  {
   "cell_type": "markdown",
   "id": "3d558909",
   "metadata": {},
   "source": [
    "### 1.2.2 Spherical Contraction Shells\n",
    "To build the contraction shells in the spherical coordinate system, the `make_contraction_shells` function must be called with `coord_types=\"spherical\"` or `coord_types=\"p\"` (where `p` means \"pure\"). The following example shows how to build the contraction shells for $\\mathrm{H}_{2}$ in the spherical coordinate system."
   ]
  },
  {
   "cell_type": "code",
   "execution_count": 4,
   "id": "46ca0063",
   "metadata": {},
   "outputs": [
    {
     "name": "stdout",
     "output_type": "stream",
     "text": [
      "Number of contracted basis functions: 6\n",
      "Types of contractions: ['spherical', 'spherical', 'spherical', 'spherical', 'spherical', 'spherical']\n",
      "\n",
      "Showing first three contraction shells:\n",
      "Contraction shell #0\n",
      "   Center: [0. 0. 0.]\n",
      "   Angular momentum: 0\n",
      "   Primitive coefficients [[0.01968216 0.13796524 0.47831935]]\n",
      "   Primitive exponents [13.010701    1.9622572   0.44453796]\n",
      "   Primitive normalization constant [[1.70131166]]\n",
      "Contraction shell #1\n",
      "   Center: [0. 0. 0.]\n",
      "   Angular momentum: 0\n",
      "   Primitive coefficients [[1.]]\n",
      "   Primitive exponents [0.12194962]\n",
      "   Primitive normalization constant [[1.]]\n",
      "Contraction shell #2\n",
      "   Center: [0. 0. 0.]\n",
      "   Angular momentum: 1\n",
      "   Primitive coefficients [[1.]]\n",
      "   Primitive exponents [0.8]\n",
      "   Primitive normalization constant [[1. 1. 1.]]\n"
     ]
    }
   ],
   "source": [
    "# make contractions for the hydrogen def2-SVP basis set\n",
    "basis = make_contractions(gbs_basis_dict, atoms, atcoords, coord_types=\"spherical\")\n",
    "\n",
    "print(\"Number of contracted basis functions:\", len(basis))  # 3 for each H atom\n",
    "print(f\"Types of contractions: {[i.coord_type for i in basis]}\", end=\"\\n\\n\")\n",
    "print(\"Showing first three contraction shells:\")\n",
    "for i, shell in enumerate(basis[:3]):\n",
    "    print(f\"Contraction shell #{i}\")\n",
    "    print(f\"   Center: {shell.coord}\")\n",
    "    print(f\"   Angular momentum: {shell.angmom}\")\n",
    "    print(f\"   Primitive coefficients {shell.coeffs.T}\")\n",
    "    print(f\"   Primitive exponents {shell.exps}\")\n",
    "    print(f\"   Primitive normalization constant {shell.norm_cont}\")"
   ]
  },
  {
   "cell_type": "markdown",
   "id": "88400ec4",
   "metadata": {},
   "source": [
    "### 1.2.3 Mixed Contraction Shell types\n",
    "A coordinate system can be specified for each contraction shell individually, allowing for mixed contraction shell types. For this, a list of strings with values `\"cartesian\"`, `\"c\"` or `\"spherical\"`, `\"p\"` must be passed to the `coord_types` argument of the `make_contraction_shells` function. The length of this list must be equal to the number of contraction shells. The following example shows how to build the contraction shells for $\\mathrm{H}_{2}$ with the first shell in the Cartesian coordinate system and the second shell in the spherical coordinate system."
   ]
  },
  {
   "cell_type": "code",
   "execution_count": 5,
   "id": "73b42d29",
   "metadata": {},
   "outputs": [
    {
     "name": "stdout",
     "output_type": "stream",
     "text": [
      "Number of contracted basis functions: 6\n",
      "Types of contractions: ['cartesian', 'spherical', 'spherical', 'cartesian', 'spherical', 'cartesian']\n",
      "\n",
      "Showing first three contraction shells:\n",
      "Contraction shell #0\n",
      "   Center: [0. 0. 0.]\n",
      "   Angular momentum: 0\n",
      "   Primitive coefficients [[0.01968216 0.13796524 0.47831935]]\n",
      "   Primitive exponents [13.010701    1.9622572   0.44453796]\n",
      "   Primitive normalization constant [[1.70131166]]\n",
      "Contraction shell #1\n",
      "   Center: [0. 0. 0.]\n",
      "   Angular momentum: 0\n",
      "   Primitive coefficients [[1.]]\n",
      "   Primitive exponents [0.12194962]\n",
      "   Primitive normalization constant [[1.]]\n",
      "Contraction shell #2\n",
      "   Center: [0. 0. 0.]\n",
      "   Angular momentum: 1\n",
      "   Primitive coefficients [[1.]]\n",
      "   Primitive exponents [0.8]\n",
      "   Primitive normalization constant [[1. 1. 1.]]\n"
     ]
    }
   ],
   "source": [
    "# list of coordinate types, one for each shell\n",
    "coord_types = [\"c\", \"p\", \"spherical\", \"cartesian\", \"p\", \"cartesian\"]\n",
    "\n",
    "# make contractions for the hydrogen def2-SVP basis set\n",
    "basis = make_contractions(gbs_basis_dict, atoms, atcoords, coord_types=coord_types)\n",
    "\n",
    "print(\"Number of contracted basis functions:\", len(basis))  # 3 for each H atom\n",
    "print(f\"Types of contractions: {[i.coord_type for i in basis]}\", end=\"\\n\\n\")\n",
    "print(\"Showing first three contraction shells:\")\n",
    "for i, shell in enumerate(basis[:3]):\n",
    "    print(f\"Contraction shell #{i}\")\n",
    "    print(f\"   Center: {shell.coord}\")\n",
    "    print(f\"   Angular momentum: {shell.angmom}\")\n",
    "    print(f\"   Primitive coefficients {shell.coeffs.T}\")\n",
    "    print(f\"   Primitive exponents {shell.exps}\")\n",
    "    print(f\"   Primitive normalization constant {shell.norm_cont}\")"
   ]
  },
  {
   "cell_type": "markdown",
   "id": "692510fa",
   "metadata": {},
   "source": [
    "## 1.3 Interfacing With Other Packages"
   ]
  },
  {
   "cell_type": "markdown",
   "id": "f0e7c789",
   "metadata": {},
   "source": [
    "`gbasis` has been designed to be easily interfaced the [`iodata`](https://iodata.readthedocs.io/en/latest/) package, which handles the inputs and outputs for different quantum chemistry formats, such as Gaussian formatted checkpoint files (.fchk) and AIM wavefunction files (.wfn and .wfx). Additionally, `gbasis` can be directly interfaced with [`pySCF`](https://pyscf.org/), a popular Python package for quantum chemistry calculations.\n",
    "\n",
    "### 1.3.1 [`iodata`](https://iodata.readthedocs.io/en/latest/) Package\n",
    "This is the preferred way to load basis information from computational chemistry calculations in `gbasis`. The following example shows how to load a basis set from a Gaussian formatted checkpoint using the `iodata` package. The same approach can be used for loading the basis information of other formats supported by `iodata`."
   ]
  },
  {
   "cell_type": "code",
   "execution_count": 6,
   "id": "28dfd239",
   "metadata": {},
   "outputs": [
    {
     "name": "stdout",
     "output_type": "stream",
     "text": [
      "[ 0.01418428  0.01049743 -0.00741906]\n",
      "Basis loaded from IOData:\n",
      "Number of contracted basis functions: 24\n",
      "Showing first three contraction shells:\n",
      "Contraction shell #0\n",
      "   Center: [ 0.01418428  0.01049743 -0.00741906]\n",
      "   Angular momentum: 0\n",
      "   Primitive coefficients [[5.72273352e-04 4.43532335e-03 2.30201077e-02 9.28224907e-02\n",
      "  2.93785000e-01 6.74016045e-01]]\n",
      "   Primitive exponents [27032.3826     4052.38714     922.327227    261.24071      85.3546414\n",
      "    31.0350352]\n",
      "   Primitive normalization constant [[1.]]\n",
      "Contraction shell #1\n",
      "   Center: [ 0.01418428  0.01049743 -0.00741906]\n",
      "   Angular momentum: 0\n",
      "   Primitive coefficients [[0.63839937 0.39534587]]\n",
      "   Primitive exponents [12.2608607  4.9987076]\n",
      "   Primitive normalization constant [[1.]]\n",
      "Contraction shell #2\n",
      "   Center: [ 0.01418428  0.01049743 -0.00741906]\n",
      "   Angular momentum: 0\n",
      "   Primitive coefficients [[1.]]\n",
      "   Primitive exponents [1.17031082]\n",
      "   Primitive normalization constant [[1.]]\n"
     ]
    }
   ],
   "source": [
    "from iodata import load_one\n",
    "from gbasis.wrappers import from_iodata\n",
    "\n",
    "# load a basis from an fchk file (water at uwB97XD/def2-TZVPD LOT) using IOData\n",
    "iodata_mol = load_one(\"water.fchk\")\n",
    "basis = from_iodata(iodata_mol)\n",
    "print(basis[0].coord)\n",
    "\n",
    "\n",
    "# print(\"Basis loaded from IOData:\")\n",
    "# print(basis)\n",
    "# basis[0].gbs_basis\n",
    "\n",
    "# print the basis set information\n",
    "print(\"Basis loaded from IOData:\")\n",
    "print(\"Number of contracted basis functions:\", len(basis))\n",
    "print(\"Showing first three contraction shells:\")\n",
    "for i, shell in enumerate(basis[:3]):\n",
    "    print(f\"Contraction shell #{i}\")\n",
    "    print(f\"   Center: {shell.coord}\")\n",
    "    print(f\"   Angular momentum: {shell.angmom}\")\n",
    "    print(f\"   Primitive coefficients {shell.coeffs.T}\")\n",
    "    print(f\"   Primitive exponents {shell.exps}\")\n",
    "    print(f\"   Primitive normalization constant {shell.norm_cont}\")"
   ]
  },
  {
   "cell_type": "markdown",
   "id": "dc5e1847",
   "metadata": {},
   "source": [
    "### 1.3.2 [`pySCF`](https://pyscf.org/) Package\n",
    "`gbasis`has a direct interface with `pySCF` objects. To showcase this feature, a `pySCF` `Mole` object is created and its `basis` are loaded using `gbasis`."
   ]
  },
  {
   "cell_type": "code",
   "execution_count": 7,
   "id": "d5a9da5f",
   "metadata": {},
   "outputs": [
    {
     "name": "stdout",
     "output_type": "stream",
     "text": [
      "Constructing pySCF molecule:\n",
      "Atomic coordinates:\n",
      "O 0 0 0;\n",
      "H 0 1 0;\n",
      "H 0 0 1\n",
      "Basis set used: sto-3g\n",
      "Importing basis set from PySCF to gbasis:\n",
      "Number of contracted basis functions: 5\n",
      "Showing first three contraction shells:\n",
      "Contraction shell #0\n",
      "   Center: [0. 0. 0.]\n",
      "   Angular momentum: 0\n",
      "   Primitive coefficients [[0.15432897 0.53532814 0.44463454]]\n",
      "   Primitive exponents [130.70932    23.808861    6.4436083]\n",
      "   Primitive normalization constant [[0.99999999]]\n",
      "Contraction shell #1\n",
      "   Center: [0. 0. 0.]\n",
      "   Angular momentum: 0\n",
      "   Primitive coefficients [[-0.09996723  0.39951283  0.70011547]]\n",
      "   Primitive exponents [5.0331513 1.1695961 0.380389 ]\n",
      "   Primitive normalization constant [[0.99999999]]\n",
      "Contraction shell #2\n",
      "   Center: [0. 0. 0.]\n",
      "   Angular momentum: 1\n",
      "   Primitive coefficients [[0.15591627 0.60768372 0.39195739]]\n",
      "   Primitive exponents [5.0331513 1.1695961 0.380389 ]\n",
      "   Primitive normalization constant [[0.99999999 0.99999999 0.99999999]]\n"
     ]
    }
   ],
   "source": [
    "from pyscf import gto\n",
    "from gbasis.wrappers import from_pyscf\n",
    "\n",
    "molecule = '''O 0 0 0;\n",
    "H 0 1 0;\n",
    "H 0 0 1'''\n",
    "\n",
    "basis_name = \"sto-3g\"\n",
    "\n",
    "print(\"Constructing pySCF molecule:\")\n",
    "print(\"Atomic coordinates:\")\n",
    "print(molecule)\n",
    "print(f\"Basis set used: {basis_name}\")\n",
    "\n",
    "# build an STO-3G basis for water using PySCF\n",
    "pyscf_mol = gto.Mole()\n",
    "pyscf_mol.build(\n",
    "    atom = molecule,\n",
    "    basis = basis_name,\n",
    ")\n",
    "\n",
    "print(\"Importing basis set from PySCF to gbasis:\")\n",
    "basis = from_pyscf(pyscf_mol)\n",
    "\n",
    "print(\"Number of contracted basis functions:\", len(basis))\n",
    "print(\"Showing first three contraction shells:\")\n",
    "for i, shell in enumerate(basis[:3]):\n",
    "    print(f\"Contraction shell #{i}\")\n",
    "    print(f\"   Center: {shell.coord}\")\n",
    "    print(f\"   Angular momentum: {shell.angmom}\")\n",
    "    print(f\"   Primitive coefficients {shell.coeffs.T}\")\n",
    "    print(f\"   Primitive exponents {shell.exps}\")\n",
    "    print(f\"   Primitive normalization constant {shell.norm_cont}\")"
   ]
  }
 ],
 "metadata": {
  "kernelspec": {
   "display_name": "Python 3 (ipykernel)",
   "language": "python",
   "name": "python3"
  },
  "language_info": {
   "codemirror_mode": {
    "name": "ipython",
    "version": 3
   },
   "file_extension": ".py",
   "mimetype": "text/x-python",
   "name": "python",
   "nbconvert_exporter": "python",
   "pygments_lexer": "ipython3",
   "version": "3.8.13"
  }
 },
 "nbformat": 4,
 "nbformat_minor": 5
}
